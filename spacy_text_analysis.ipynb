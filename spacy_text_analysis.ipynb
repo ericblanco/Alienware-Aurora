{
  "nbformat": 4,
  "nbformat_minor": 0,
  "metadata": {
    "colab": {
      "name": "Copy of text_analysis.ipynb",
      "provenance": [],
      "collapsed_sections": [],
      "include_colab_link": true
    },
    "kernelspec": {
      "name": "python3",
      "display_name": "Python 3"
    }
  },
  "cells": [
    {
      "cell_type": "markdown",
      "metadata": {
        "id": "view-in-github",
        "colab_type": "text"
      },
      "source": [
        "<a href=\"https://colab.research.google.com/github/ericblanco/Alienware-Aurora/blob/main/spacy_text_analysis.ipynb\" target=\"_parent\"><img src=\"https://colab.research.google.com/assets/colab-badge.svg\" alt=\"Open In Colab\"/></a>"
      ]
    },
    {
      "cell_type": "code",
      "metadata": {
        "id": "e200MmBU2aLT",
        "outputId": "03a817a2-ddda-47dc-e3b3-94f8e32f0256",
        "colab": {
          "base_uri": "https://localhost:8080/",
          "height": 707
        }
      },
      "source": [
        "import spacy\n",
        "from spacy import displacy\n",
        "\n",
        "import gradio as gr\n",
        "\n",
        "nlp = spacy.load(\"en_core_web_sm\")\n",
        "\n",
        "\n",
        "def text_analysis(text):\n",
        "    doc = nlp(text)\n",
        "    html = displacy.render(doc, style=\"dep\", page=True)\n",
        "    html = (\n",
        "        \"<div style='max-width:100%; max-height:360px; overflow:auto'>\"\n",
        "        + html\n",
        "        + \"</div>\"\n",
        "    )\n",
        "    pos_count = {\n",
        "        \"char_count\": len(text),\n",
        "        \"token_count\": 0,\n",
        "    }\n",
        "    pos_tokens = []\n",
        "\n",
        "    for token in doc:\n",
        "        pos_tokens.extend([(token.text, token.pos_), (\" \", None)])\n",
        "\n",
        "    return pos_tokens, pos_count, html\n",
        "\n",
        "\n",
        "iface = gr.Interface(\n",
        "    text_analysis,\n",
        "    gr.inputs.Textbox(placeholder=\"Enter sentence here...\"),\n",
        "    [\"highlight\", \"key_values\", \"html\"],\n",
        "    examples=[\n",
        "        [\"What a beautiful morning for a walk!\"],\n",
        "        [\"It was the best of times, it was the worst of times.\"],\n",
        "    ],\n",
        ")\n",
        "\n",
        "iface.test_launch()\n",
        "iface.launch()\n"
      ],
      "execution_count": 3,
      "outputs": [
        {
          "output_type": "stream",
          "name": "stderr",
          "text": [
            "/usr/local/lib/python3.7/dist-packages/paramiko/transport.py:236: CryptographyDeprecationWarning: Blowfish has been deprecated\n",
            "  \"class\": algorithms.Blowfish,\n"
          ]
        },
        {
          "output_type": "stream",
          "name": "stdout",
          "text": [
            "Test launch: text_analysis()... PASSED\n",
            "Colab notebook detected. To show errors in colab notebook, set `debug=True` in `launch()`\n",
            "Running on public URL: https://42845.gradio.app\n",
            "\n",
            "This share link expires in 72 hours. For free permanent hosting, check out Spaces (https://huggingface.co/spaces)\n"
          ]
        },
        {
          "output_type": "display_data",
          "data": {
            "text/plain": [
              "<IPython.lib.display.IFrame at 0x7f681e31cad0>"
            ],
            "text/html": [
              "\n",
              "        <iframe\n",
              "            width=\"900\"\n",
              "            height=\"500\"\n",
              "            src=\"https://42845.gradio.app\"\n",
              "            frameborder=\"0\"\n",
              "            allowfullscreen\n",
              "        ></iframe>\n",
              "        "
            ]
          },
          "metadata": {}
        },
        {
          "output_type": "execute_result",
          "data": {
            "text/plain": [
              "(<fastapi.applications.FastAPI at 0x7f682685b990>,\n",
              " 'http://127.0.0.1:7860/',\n",
              " 'https://42845.gradio.app')"
            ]
          },
          "metadata": {},
          "execution_count": 3
        }
      ]
    },
    {
      "cell_type": "code",
      "source": [
        "from google.colab import drive\n",
        "drive.mount('/content/drive')"
      ],
      "metadata": {
        "colab": {
          "base_uri": "https://localhost:8080/"
        },
        "id": "6qlI8-Vf_8DI",
        "outputId": "fee107bd-7936-405c-892f-e7658e985c4f"
      },
      "execution_count": 14,
      "outputs": [
        {
          "output_type": "stream",
          "name": "stdout",
          "text": [
            "Mounted at /content/drive\n"
          ]
        }
      ]
    },
    {
      "cell_type": "code",
      "source": [
        "from dframcy import DframCy "
      ],
      "metadata": {
        "id": "Ekse_s3S5Ihj"
      },
      "execution_count": 5,
      "outputs": []
    },
    {
      "cell_type": "code",
      "source": [
        "dframcy = DframCy(nlp)"
      ],
      "metadata": {
        "id": "8uvT1O945edS"
      },
      "execution_count": 7,
      "outputs": []
    },
    {
      "cell_type": "code",
      "source": [
        "from spacy.tokens import DocBin"
      ],
      "metadata": {
        "id": "5iv-Rdff6vXB"
      },
      "execution_count": 8,
      "outputs": []
    },
    {
      "cell_type": "code",
      "source": [
        "from spacy.tokens import Doc"
      ],
      "metadata": {
        "id": "1dvUiatcBezN"
      },
      "execution_count": 16,
      "outputs": []
    },
    {
      "cell_type": "code",
      "source": [
        ""
      ],
      "metadata": {
        "id": "J9bSJ2dHBiSe"
      },
      "execution_count": null,
      "outputs": []
    },
    {
      "cell_type": "code",
      "source": [
        "nlp.to_disk(\"/content/drive/MyDrive/public\")"
      ],
      "metadata": {
        "id": "Ug_QW8bh7pn-"
      },
      "execution_count": 17,
      "outputs": []
    },
    {
      "cell_type": "code",
      "source": [
        ""
      ],
      "metadata": {
        "id": "_nW0Vtj9AAKF"
      },
      "execution_count": null,
      "outputs": []
    }
  ]
}